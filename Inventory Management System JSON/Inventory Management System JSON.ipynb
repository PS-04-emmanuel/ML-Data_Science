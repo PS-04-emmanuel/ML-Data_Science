{
 "cells": [
  {
   "cell_type": "code",
   "execution_count": 1,
   "id": "6f6a7143",
   "metadata": {},
   "outputs": [
    {
     "name": "stdout",
     "output_type": "stream",
     "text": [
      "-----------------------MENU-----------------------\n",
      "\n"
     ]
    },
    {
     "ename": "NameError",
     "evalue": "name 'record' is not defined",
     "output_type": "error",
     "traceback": [
      "\u001b[1;31m---------------------------------------------------------------------------\u001b[0m",
      "\u001b[1;31mNameError\u001b[0m                                 Traceback (most recent call last)",
      "Cell \u001b[1;32mIn[1], line 13\u001b[0m\n\u001b[0;32m     10\u001b[0m \u001b[38;5;66;03m# record = json.loads(js)\u001b[39;00m\n\u001b[0;32m     12\u001b[0m \u001b[38;5;28mprint\u001b[39m(\u001b[38;5;124m'\u001b[39m\u001b[38;5;124m-\u001b[39m\u001b[38;5;124m'\u001b[39m\u001b[38;5;241m*\u001b[39m\u001b[38;5;241m23\u001b[39m \u001b[38;5;241m+\u001b[39m \u001b[38;5;124m'\u001b[39m\u001b[38;5;124mMENU\u001b[39m\u001b[38;5;124m'\u001b[39m \u001b[38;5;241m+\u001b[39m \u001b[38;5;124m'\u001b[39m\u001b[38;5;124m-\u001b[39m\u001b[38;5;124m'\u001b[39m\u001b[38;5;241m*\u001b[39m\u001b[38;5;241m23\u001b[39m\u001b[38;5;241m+\u001b[39m\u001b[38;5;124m\"\u001b[39m\u001b[38;5;130;01m\\n\u001b[39;00m\u001b[38;5;124m\"\u001b[39m)\n\u001b[1;32m---> 13\u001b[0m \u001b[38;5;28;01mfor\u001b[39;00m key \u001b[38;5;129;01min\u001b[39;00m record\u001b[38;5;241m.\u001b[39mkeys():\n\u001b[0;32m     14\u001b[0m     \u001b[38;5;28mprint\u001b[39m(key, \u001b[38;5;124m\"\u001b[39m\u001b[38;5;124m:\u001b[39m\u001b[38;5;124m\"\u001b[39m, record[key][\u001b[38;5;124m'\u001b[39m\u001b[38;5;124mName\u001b[39m\u001b[38;5;124m'\u001b[39m], \u001b[38;5;124m\"\u001b[39m\u001b[38;5;130;01m\\t\u001b[39;00m\u001b[38;5;124m\"\u001b[39m, record[key][\u001b[38;5;124m'\u001b[39m\u001b[38;5;124mPrice\u001b[39m\u001b[38;5;124m'\u001b[39m], \u001b[38;5;124m\"\u001b[39m\u001b[38;5;130;01m\\t\u001b[39;00m\u001b[38;5;124m\"\u001b[39m , record[key][\u001b[38;5;124m'\u001b[39m\u001b[38;5;124mQn\u001b[39m\u001b[38;5;124m'\u001b[39m])\n\u001b[0;32m     15\u001b[0m \u001b[38;5;28mprint\u001b[39m(\u001b[38;5;124m'\u001b[39m\u001b[38;5;124m-\u001b[39m\u001b[38;5;124m'\u001b[39m\u001b[38;5;241m*\u001b[39m\u001b[38;5;241m50\u001b[39m\u001b[38;5;241m+\u001b[39m\u001b[38;5;124m\"\u001b[39m\u001b[38;5;130;01m\\n\u001b[39;00m\u001b[38;5;124m\"\u001b[39m)\n",
      "\u001b[1;31mNameError\u001b[0m: name 'record' is not defined"
     ]
    }
   ],
   "source": [
    "import json\n",
    "import time\n",
    "\n",
    "Sale =''\n",
    "\n",
    "fd = open('Records.json','r')\n",
    "js = fd.read()\n",
    "fd.close()\n",
    "\n",
    "# record = json.loads(js)\n",
    "\n",
    "print('-'*23 + 'MENU' + '-'*23+\"\\n\")\n",
    "for key in record.keys():\n",
    "    print(key, \":\", record[key]['Name'], \"\\t\", record[key]['Price'], \"\\t\" , record[key]['Qn'])\n",
    "print('-'*50+\"\\n\")\n",
    "\n",
    "ui_name = str(input(\"Enter Your Name   : \"))\n",
    "ui_mail = str(input(\"Enter Mail ID     : \"))\n",
    "ui_ph =   str(input(\"Enter Phone No    : \"))\n",
    "ui_pr =   str(input(\"Enter Product ID  : \"))\n",
    "ui_qn =   int(input(\"Enter Quantity    : \"))\n",
    "\n",
    "if(record[ui_pr]['Qn'] >= ui_qn):\n",
    "    print('-'*50)\n",
    "    print(' '*23 + \"BILL\" + ' '*23+\"\\n\")\n",
    "    print(\"Name           : \",record[ui_pr]['Name'])\n",
    "    print(\"Price          : \",record[ui_pr]['Price'],\"Rs\")\n",
    "    print(\"Quantity       : \",ui_qn)\n",
    "    print('-'*50)\n",
    "    print(\"Billing Amount : \",record[ui_pr]['price']*ui_qn,\"Rs\")\n",
    "    print('-'*50)\n",
    "    \n",
    "    record[ui_pr]['Qn'] = record[ui_pr]['Qn'] - ui_qn\n",
    "    \n",
    "    Sale=ui_name +\",\"+ ui_mail +\",\"+ ui_ph +\",\"+ ui_pr +\",\"+ record[ui_pr]['Name'] +\",\"+ str(record[ui_pr]['Name']) +\",\"+ str(ui_qn)+\",\"+ str(record[ui_pr]['Price']) +\",\"+ str(ui_qn*record[ui_pr]['Price']) +\",\"+ time.ctime() + \"\\n\"\n",
    "    \n",
    "else:\n",
    "    print(\"\\n\"+'-'*50)\n",
    "    print(\"Sorry, We're not having enough Quantity \\nin Our Inventory\")\n",
    "    print(\"We're only having\", record[ui_pr]['Qn'], 'Quantity.')\n",
    "    print('-'*50)\n",
    "    \n",
    "    ch = str(input(\"Press Y/y to Purchase : \"))\n",
    "    \n",
    "    if(ch=='Y' or ch=='y'):\n",
    "        print('-'*50)\n",
    "        print(' '*23 + \"BILL\" + ' '*23+\"\\n\")\n",
    "        print(\"Name           : \",record[ui_pr]['Name'])\n",
    "        print(\"Price          : \",record[ui_pr]['Price'],\"Rs\")\n",
    "        print(\"Quantity       : \",record[ui_pr]['Qn'])\n",
    "        print('-'*50)\n",
    "        print(\"Billing Amount : \",record[ui_pr]['price']*record[ui_pr]['Qn'],\"Rs\")\n",
    "        print('-'*50)\n",
    "        \n",
    "        Sale=ui_name +\",\"+ ui_mail +\",\"+ ui_ph +\",\"+ ui_pr +\",\"+ record[ui_pr]['Name'] +\",\"+ str(record[ui_pr]['Name']) +\",\"+ str(record[ui_pr]['Qn'])+\",\"+ str(record[ui_pr]['Price']) +\",\"+ str(record[ui_pr]['Qn']*record[ui_pr]['Price']) +\",\"+ time.ctime() + \"\\n\"\n",
    "        \n",
    "        record[ui_pr]['Qn'] = 0\n",
    "        \n",
    "    else:\n",
    "        print(\"Thanks!\")\n",
    "        \n",
    "js = json.dumps(record)\n",
    "\n",
    "fd=open(\"Records.json\",'w')\n",
    "fd.write(js)\n",
    "fd.close()\n",
    "\n",
    "print('-'*50)\n",
    "print(\"Thanks for Your order, Inventory Updated!\")\n",
    "print('-'*50)\n"
   ]
  },
  {
   "cell_type": "code",
   "execution_count": null,
   "id": "a0991c02",
   "metadata": {},
   "outputs": [],
   "source": []
  }
 ],
 "metadata": {
  "kernelspec": {
   "display_name": "Python 3 (ipykernel)",
   "language": "python",
   "name": "python3"
  },
  "language_info": {
   "codemirror_mode": {
    "name": "ipython",
    "version": 3
   },
   "file_extension": ".py",
   "mimetype": "text/x-python",
   "name": "python",
   "nbconvert_exporter": "python",
   "pygments_lexer": "ipython3",
   "version": "3.11.4"
  }
 },
 "nbformat": 4,
 "nbformat_minor": 5
}
