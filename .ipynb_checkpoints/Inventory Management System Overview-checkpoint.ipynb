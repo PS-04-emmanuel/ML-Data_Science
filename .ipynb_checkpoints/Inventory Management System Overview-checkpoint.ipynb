{
 "cells": [
  {
   "cell_type": "code",
   "execution_count": 9,
   "id": "858e5c3a",
   "metadata": {},
   "outputs": [
    {
     "name": "stdout",
     "output_type": "stream",
     "text": [
      "Enter your Name :PRAKHAR SAXENA\n",
      "Enter your Phone no. :9756180240\n",
      "Enter your Mail :saxenaprakhar440@gmail.com \n",
      "Enter Product ID :3\n",
      "Enter Product Quantity :45\n",
      "--------------------------------------------------\n",
      "Product Name    :  Chips\n",
      "Price           :  10\n",
      "Quantity        :  45\n",
      "--------------------------------------------------\n",
      "Billing Amount  :  450\n",
      "--------------------------------------------------\n"
     ]
    },
    {
     "ename": "IndexError",
     "evalue": "list index out of range",
     "output_type": "error",
     "traceback": [
      "\u001b[1;31m---------------------------------------------------------------------------\u001b[0m",
      "\u001b[1;31mIndexError\u001b[0m                                Traceback (most recent call last)",
      "Cell \u001b[1;32mIn[9], line 63\u001b[0m\n\u001b[0;32m     60\u001b[0m lst \u001b[38;5;241m=\u001b[39m []\n\u001b[0;32m     62\u001b[0m \u001b[38;5;28;01mfor\u001b[39;00m i \u001b[38;5;129;01min\u001b[39;00m updated_product_lst:\n\u001b[1;32m---> 63\u001b[0m     prod \u001b[38;5;241m=\u001b[39m i[\u001b[38;5;241m0\u001b[39m]\u001b[38;5;241m+\u001b[39m\u001b[38;5;124m'\u001b[39m\u001b[38;5;124m,\u001b[39m\u001b[38;5;124m'\u001b[39m\u001b[38;5;241m+\u001b[39mi[\u001b[38;5;241m1\u001b[39m]\u001b[38;5;241m+\u001b[39m\u001b[38;5;124m'\u001b[39m\u001b[38;5;124m,\u001b[39m\u001b[38;5;124m'\u001b[39m\u001b[38;5;241m+\u001b[39mi[\u001b[38;5;241m2\u001b[39m]\u001b[38;5;241m+\u001b[39m\u001b[38;5;124m'\u001b[39m\u001b[38;5;124m,\u001b[39m\u001b[38;5;124m'\u001b[39m\u001b[38;5;241m+\u001b[39mi[\u001b[38;5;241m3\u001b[39m]\u001b[38;5;241m+\u001b[39m\u001b[38;5;124m\"\u001b[39m\u001b[38;5;130;01m\\n\u001b[39;00m\u001b[38;5;124m\"\u001b[39m\n\u001b[0;32m     64\u001b[0m     lst\u001b[38;5;241m.\u001b[39mappend(prod)\n\u001b[0;32m     66\u001b[0m lst[\u001b[38;5;241m-\u001b[39m\u001b[38;5;241m1\u001b[39m] \u001b[38;5;241m=\u001b[39m lst[\u001b[38;5;241m-\u001b[39m\u001b[38;5;241m1\u001b[39m][:\u001b[38;5;241m-\u001b[39m\u001b[38;5;241m1\u001b[39m]\n",
      "\u001b[1;31mIndexError\u001b[0m: list index out of range"
     ]
    }
   ],
   "source": [
    "import time\n",
    "\n",
    "fd = open('Inventory.txt','r')\n",
    "products = fd.read().split('\\n')\n",
    "fd.close()\n",
    "\n",
    "ui_username = input(\"Enter your Name :\")\n",
    "ui_phone = input(\"Enter your Phone no. :\")\n",
    "ui_mail = input(\"Enter your Mail :\")\n",
    "ui_prod_id = input(\"Enter Product ID :\")\n",
    "ui_prod_qn = input(\"Enter Product Quantity :\")\n",
    "\n",
    "updated_product_lst = []\n",
    "\n",
    "for product in products:\n",
    "    prod_details = product.split(',')\n",
    "    if(prod_details[0] == ui_prod_id):\n",
    "        if(int(ui_prod_qn)<=int(prod_details[3])):\n",
    "            print('-'*50)\n",
    "            print(\"Product Name    : \", prod_details[1])\n",
    "            print(\"Price           : \", prod_details[2])\n",
    "            print(\"Quantity        : \", ui_prod_qn)\n",
    "            print('-'*50)\n",
    "            print(\"Billing Amount  : \", int(ui_prod_qn)*int(prod_details[2]))\n",
    "            print('-'*50)\n",
    "            \n",
    "            prod_details[3] = str(int(prod_details[3])-int(ui_prod_qn))\n",
    "            \n",
    "            fd = open(\"Sales.txt\", 'a')\n",
    "            sales_detail = ui_username + ','+ ui_phone +','+ ui_mail +','+ prod_details[1] +','+ ui_prod_id +','+ ui_prod_qn +','+ str(int(ui_prod_qn)*int(prod_details[2])) +','+ time.ctime()+\"\\n\"\n",
    "            fd.write(sales_detail)\n",
    "            fd.close()\n",
    "            \n",
    "        else:\n",
    "            print(\"Sorry, We're not having enough quantity\")\n",
    "            print(\"We're having only \", prod_details[3], \"quantity\")\n",
    "            print(\"Would you like to purchase it ?\")\n",
    "            ch = input(\"Press Y/N\")\n",
    "            if(ch == 'Y' or ch=='y'):\n",
    "                print('-'*50)\n",
    "                print(\"Product Name    : \", prod_details[1])\n",
    "                print(\"Price           : \", prod_details[2])\n",
    "                print(\"Quantity        : \", prod_details[3])\n",
    "                print('-'*50)\n",
    "                print(\"Billing Amount  : \", int(prod_details[3])*int(prod_details[2]))\n",
    "                print('-'*50)\n",
    "                \n",
    "                prod_details[3] = '0'\n",
    "                \n",
    "                fd = open(\"Sales.txt\",'a')\n",
    "                sales_detail = ui_username + ','+ ui_phone +','+ ui_mail +','+ prod_details[1] +','+ ui_prod_id +','+ prod_details[3] +','+ str(int(prod_details[3])*int(prod_details[2])) +','+ time.ctime() +','+\"\\n\"\n",
    "                fd.write(sales_detail)\n",
    "                fd.close()\n",
    "                \n",
    "            else:\n",
    "                print(\"Thanks\")\n",
    "                \n",
    "        updated_product_lst.append(prod_details)\n",
    "            \n",
    "lst = []\n",
    "\n",
    "for i in updated_product_lst:\n",
    "    prod = i[0]+','+i[1]+','+i[2]+','+i[3]+\"\\n\"\n",
    "    lst.append(prod)\n",
    "\n",
    "lst[-1] = lst[-1][:-1]\n",
    "\n",
    "fd = open(\"Inventory.txt\", 'w')\n",
    "\n",
    "for i in lst:\n",
    "    fd.write(i)\n",
    "fd.close()\n",
    "    \n",
    "print('-'*50)\n",
    "print(\"Inventory Updated\")"
   ]
  },
  {
   "cell_type": "code",
   "execution_count": null,
   "id": "2d4a7e2b",
   "metadata": {},
   "outputs": [],
   "source": []
  }
 ],
 "metadata": {
  "kernelspec": {
   "display_name": "Python 3 (ipykernel)",
   "language": "python",
   "name": "python3"
  },
  "language_info": {
   "codemirror_mode": {
    "name": "ipython",
    "version": 3
   },
   "file_extension": ".py",
   "mimetype": "text/x-python",
   "name": "python",
   "nbconvert_exporter": "python",
   "pygments_lexer": "ipython3",
   "version": "3.11.4"
  }
 },
 "nbformat": 4,
 "nbformat_minor": 5
}
